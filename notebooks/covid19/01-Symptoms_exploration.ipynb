{
 "nbformat": 4,
 "nbformat_minor": 0,
 "metadata": {
  "colab": {
   "name": "Symptom_exploration.ipynb",
   "provenance": [],
   "collapsed_sections": []
  },
  "kernelspec": {
   "name": "python3",
   "display_name": "Python 3"
  },
  "pycharm": {
   "stem_cell": {
    "cell_type": "raw",
    "source": [],
    "metadata": {
     "collapsed": false
    }
   }
  }
 },
 "cells": [
  {
   "cell_type": "markdown",
   "metadata": {
    "id": "pFxxilFcd95E",
    "colab_type": "text"
   },
   "source": [
    "<p align=\"center\">\n",
    "  <a href=\"http://www.openpandemic.io\"><img alt=\"openpandemic\" src=\"https://avatars2.githubusercontent.com/u/63398478?s=100&v=4\" width=100 /></a>\n",
    "  <h3 align=\"center\">Openpandemic - Analytics</h3>\n",
    "  <p align=\"center\">\n",
    "  <table style=\"border-collapse: collapse; border: none;\">\n",
    "<tr>\n",
    "  <td>\n",
    "    <img align=\"center\" alt=\"We love Opensource\" src=\"https://badges.frapsoft.com/os/v1/open-source.svg?v=103\" />\n",
    "  </td>\n",
    "  <td>\n",
    "    <a href=\"https://colab.research.google.com/github/openpandemic/openpandemic-analytics/blob/master/notebooks/covid19/01-Symptoms_exploration.ipynb\"><img align=\"center\" alt=\"Colab\" src=\"https://colab.research.google.com/assets/colab-badge.svg\" /></a>\n",
    "  </td>\n",
    "  </tr>\n",
    "  </table>\n",
    "  </p>\n",
    "</p>\n",
    "\n",
    "---\n",
    "\n",
    "We want to collaborate with the OpenPandemic initiative, a generous gesture in OSS terms to help to stop pandemic diseases.\n",
    "\n",
    "Please take a look at the [openpandemic-app](https://github.com/OpenPandemic/openpandemic-app) and [openpandemic-back](https://github.com/OpenPandemic/openpandemic-back) repositories.\n",
    "\n"
   ]
  },
  {
   "cell_type": "markdown",
   "metadata": {
    "id": "B9nfhM3QjKtB",
    "colab_type": "text"
   },
   "source": [
    "This notebook is meant to give you a basic entrypoint to explore collected datasets from the application."
   ]
  },
  {
   "cell_type": "markdown",
   "metadata": {
    "id": "O9vNNw-4elC9",
    "colab_type": "text"
   },
   "source": [
    "# Requirements\n",
    "\n",
    "*   Google Cloud BigQuery connector (loaded by default in Colab python runtimes)\n",
    "*   [optional] Data access to the GCP project where data is placed, only if you are not a project member.\n",
    "\n",
    "\n"
   ]
  },
  {
   "cell_type": "markdown",
   "metadata": {
    "id": "rj2Wu75ekfrm",
    "colab_type": "text"
   },
   "source": [
    "In order to get access to GCP run this cell (set the suitable values for variables, name of project is required)"
   ]
  },
  {
   "cell_type": "code",
   "metadata": {
    "id": "LhvGhZ1mj4L1",
    "colab_type": "code",
    "colab": {}
   },
   "source": [
    "from google.colab import auth\n",
    "auth.authenticate_user()\n",
    "\n",
    "PROJECT='openpandemic-analytics' # SET THE GCP PROJECT NAME\n",
    "BUCKET='' # SET YOUR GCS BUCKET NAME\n",
    "\n",
    "import os\n",
    "ROOT='./'\n",
    "MODEL_DIR=os.path.join(ROOT,'models')\n",
    "PACKAGES_DIR=os.path.join(ROOT,'packages')"
   ],
   "execution_count": null,
   "outputs": []
  },
  {
   "cell_type": "markdown",
   "metadata": {
    "id": "U659HUxV1Bg2",
    "colab_type": "text"
   },
   "source": [
    "## Getting started\n",
    "\n",
    "We have three main options to operate with Bigquery from python kernels\n",
    "\n",
    "### Magic words (bigquery extensions)\n",
    "\n",
    "Let's try our first query to BigQuery via magic word. We try to get the total count of evaluations and users"
   ]
  },
  {
   "cell_type": "code",
   "metadata": {
    "id": "xKuOWYJYCk9j",
    "colab_type": "code",
    "outputId": "8e62d58b-fd25-4780-9008-486f1ef40ea2",
    "colab": {
     "base_uri": "https://localhost:8080/",
     "height": 51
    }
   },
   "source": [
    "%load_ext google.cloud.bigquery\n",
    "%load_ext google.colab.data_table"
   ],
   "execution_count": null,
   "outputs": []
  },
  {
   "cell_type": "code",
   "metadata": {
    "id": "1skyZN_8cscZ",
    "colab_type": "code",
    "outputId": "9910bac0-155e-4634-8420-45759bf78c3a",
    "colab": {
     "base_uri": "https://localhost:8080/",
     "height": 160
    }
   },
   "source": [
    "%%bigquery --project {PROJECT} --verbose df_total_eval\n",
    "\n",
    "SELECT\n",
    "  COUNT(1) as total_evaluation,\n",
    "  COUNT(DISTINCT person_id) as total_person_count\n",
    "FROM `openpandemic-analytics.openpandemic_test.data_test_es_v1`"
   ],
   "execution_count": null,
   "outputs": []
  },
  {
   "cell_type": "code",
   "execution_count": null,
   "outputs": [],
   "source": [
    "df_total_eval"
   ],
   "metadata": {
    "collapsed": false,
    "pycharm": {
     "name": "#%%\n"
    }
   }
  },
  {
   "cell_type": "markdown",
   "metadata": {
    "id": "LjYu8I2o19ZX",
    "colab_type": "text"
   },
   "source": [
    "### Official python client for Bigquery\n",
    "\n",
    "We could have done the same queries via bigquery client directly, using native resources or dump results into a pandas dataframe \n",
    "\n"
   ]
  },
  {
   "cell_type": "code",
   "metadata": {
    "id": "Gj9xzioukd8m",
    "colab_type": "code",
    "outputId": "aab06d31-a3d0-47b4-a2ec-9af5381703ca",
    "colab": {
     "base_uri": "https://localhost:8080/",
     "height": 34
    }
   },
   "source": [
    "from google.cloud import bigquery as bq\n",
    "\n",
    "client = bq.Client(project=PROJECT)\n",
    "\n",
    "dataset_name=\"openpandemic_test\"\n",
    "table_name=\"data_test_es_v1\"\n",
    "table_id = f\"{PROJECT}.{dataset_name}.{table_name}\"\n",
    "\n",
    "# Query to get total evaluations and person total count\n",
    "q_summary = f'''\n",
    "SELECT\n",
    "  COUNT(1) as total_evaluation,\n",
    "  COUNT(DISTINCT person_id) as total_person_count\n",
    "FROM `{table_id}`\n",
    "'''\n",
    "\n",
    "query_job = client.query(q_summary)  # API request\n",
    "rows = query_job.result()            # Waits for query to finish\n",
    "\n",
    "# Show the summary of items\n",
    "for row in rows:\n",
    "  print({k:v for (k,v) in row.items()})\n",
    "\n",
    "# Dump into pandas dataframe\n",
    "#df_summary = rows.to_dataframe()\n",
    "#df_summary.head()                    "
   ],
   "execution_count": null,
   "outputs": []
  },
  {
   "cell_type": "markdown",
   "metadata": {
    "id": "1KvIuxCNAckH",
    "colab_type": "text"
   },
   "source": [
    "### Pandas client for Bigquery\n",
    "\n",
    "We have a third alternative to get data into a pandas dataframe as well, that is to use [pandas-gbq](https://pypi.org/project/pandas-gbq/) the pandas development to operate with BigQuey.\n",
    "\n"
   ]
  },
  {
   "cell_type": "code",
   "metadata": {
    "id": "W6imiVxQ81JC",
    "colab_type": "code",
    "outputId": "c82b8dc1-ba6b-4747-abd8-91e2a41625b1",
    "colab": {
     "base_uri": "https://localhost:8080/",
     "height": 109
    }
   },
   "source": [
    "import pandas as pd\n",
    "\n",
    "df = pd.io.gbq.read_gbq(f'''\n",
    "SELECT\n",
    "  COUNT(1) as total_evaluation,\n",
    "  COUNT(DISTINCT person_id) as total_person_count\n",
    "FROM `{table_id}`\n",
    "''', project_id=PROJECT, dialect='standard')\n",
    "\n",
    "df.head()"
   ],
   "execution_count": null,
   "outputs": []
  },
  {
   "cell_type": "markdown",
   "metadata": {
    "id": "xuBgc5Ee1QWg",
    "colab_type": "text"
   },
   "source": [
    "## Evaluations\n",
    "\n",
    "We're going to extract the summary of users who have done any evaluation and the latest test result."
   ]
  },
  {
   "cell_type": "code",
   "metadata": {
    "id": "JDtRCt5Ip01l",
    "colab_type": "code",
    "outputId": "4592b326-2dc9-43c2-b565-5dd5eb2ed678",
    "colab": {
     "base_uri": "https://localhost:8080/",
     "height": 68
    }
   },
   "source": [
    "%%bigquery --project {PROJECT} --verbose df_summary_eval\n",
    "\n",
    "SELECT\n",
    " person_id,\n",
    " test.id as test_id,\n",
    " test.time as test_time,\n",
    " test.result as test_result\n",
    "FROM openpandemic-analytics.openpandemic_test.data_test_es_v1 C\n",
    "JOIN (\n",
    "  SELECT\n",
    "    person_id as person_id1,\n",
    "    COUNT(*) as eval_count,\n",
    "    MAX(test.time) as latest_test_time\n",
    "  FROM `openpandemic-analytics.openpandemic_test.data_test_es_v1`\n",
    "  GROUP BY person_id\n",
    ") C1\n",
    "ON C.person_id = C1.person_id1 AND C.test.time = latest_test_time\n",
    "ORDER BY PERSON_ID,TEST.TIME DESC"
   ],
   "execution_count": null,
   "outputs": []
  },
  {
   "cell_type": "code",
   "metadata": {
    "id": "OFiX2rLzrhKI",
    "colab_type": "code",
    "outputId": "e71d46ed-5242-48e0-82fb-c9283bdb4794",
    "colab": {
     "base_uri": "https://localhost:8080/",
     "height": 34
    }
   },
   "source": [
    "print('Number of users: %s' % df_summary_eval['person_id'].count())"
   ],
   "execution_count": null,
   "outputs": []
  },
  {
   "cell_type": "code",
   "metadata": {
    "id": "g8QjYSS7FVAu",
    "colab_type": "code",
    "outputId": "541152ca-3470-458e-f71b-b9488ccfbed5",
    "colab": {
     "base_uri": "https://localhost:8080/",
     "height": 68
    }
   },
   "source": [
    "df_summary_eval['test_result'].value_counts()"
   ],
   "execution_count": null,
   "outputs": []
  },
  {
   "cell_type": "markdown",
   "metadata": {
    "id": "7rFXUlfMGySu",
    "colab_type": "text"
   },
   "source": [
    "Now, since we have some data about single evaluation per user, let's draw the results"
   ]
  },
  {
   "cell_type": "code",
   "metadata": {
    "id": "J_ZPBCMqjhAu",
    "colab_type": "code",
    "colab": {}
   },
   "source": [
    "import plotly.graph_objs as go\n",
    "from plotly.offline import iplot, plot\n",
    "import numpy as np\n",
    "\n",
    "def graph(x, y, title):\n",
    "    y_sum = sum(y)\n",
    "    y_text = [ f\"{text:.0f}%\" for text in np.around((y / y_sum) * 100)]\n",
    "    data = [go.Bar(\n",
    "        x=x,\n",
    "        y=y,\n",
    "        marker_color='rgba(218, 201, 41, 1)',\n",
    "        text=y_text,\n",
    "        textposition = 'auto',\n",
    "        marker=dict(\n",
    "            color='rgb(158,202,225)'\n",
    "        ),\n",
    "        opacity=0.8)\n",
    "    ]\n",
    "\n",
    "    layout = go.Layout(\n",
    "        title=f'{title}, {y_sum} ',\n",
    "        paper_bgcolor='rgba(245, 246, 249, 1)',\n",
    "        plot_bgcolor='rgba(245, 246, 249, 1)',\n",
    "        showlegend=False,\n",
    "        xaxis=dict(\n",
    "            showgrid=True,\n",
    "            showline=True,\n",
    "            showticklabels=True,\n",
    "            zeroline=True,\n",
    "            domain=[0.15, 1]\n",
    "        ),\n",
    "        yaxis=dict(\n",
    "            showgrid=True,\n",
    "            showline=True,\n",
    "            showticklabels=True,\n",
    "            zeroline=True,\n",
    "        )\n",
    "    )\n",
    "    return go.Figure(data=data, layout=layout)\n"
   ],
   "execution_count": null,
   "outputs": []
  },
  {
   "cell_type": "code",
   "metadata": {
    "id": "FIjcIdm0ApkQ",
    "colab_type": "code",
    "outputId": "e03ef894-c7fd-4ce1-b6b6-3bcfd796431c",
    "colab": {
     "base_uri": "https://localhost:8080/",
     "height": 542
    }
   },
   "source": [
    "y_counts = df_summary_eval['test_result'].value_counts()\n",
    "\n",
    "y = (y_counts['symptoms'], y_counts['no-symptoms'],)\n",
    "\n",
    "x=['Con síntomas compatibles de infección',\n",
    "   'Sin síntomas compatibles']\n",
    "\n",
    "title = \"Usuarios únicos (identificados o no)\"\n",
    "\n",
    "graph(x, y, title).show()\n"
   ],
   "execution_count": null,
   "outputs": []
  },
  {
   "cell_type": "markdown",
   "metadata": {
    "id": "gjgkgEBZHRT0",
    "colab_type": "text"
   },
   "source": [
    "## Re-evaluations\n",
    "\n",
    "Now, we're going to find out users who have done more than one evaluation and thier evolution with the symptoms.\n",
    "\n",
    "We need to know how many evaluations were done by users and wheter symptoms are persistent or not."
   ]
  },
  {
   "cell_type": "code",
   "metadata": {
    "id": "GiG0tuiLdsVp",
    "colab_type": "code",
    "outputId": "c2d2f805-b796-431f-9416-39874853c8c0",
    "colab": {
     "base_uri": "https://localhost:8080/",
     "height": 68
    }
   },
   "source": [
    "%%bigquery --project {PROJECT} --verbose df_re_eval\n",
    "\n",
    "SELECT\n",
    " person_id,\n",
    " test.id as test_id,\n",
    " test.time as test_time,\n",
    " test.result as test_result,\n",
    " C1.eval_count,\n",
    " C1.test_no_symptoms_count,\n",
    " C1.test_symptoms_count\n",
    "FROM openpandemic-analytics.openpandemic_test.data_test_es_v1 C\n",
    "JOIN (\n",
    "  SELECT\n",
    "    person_id as person_id1,\n",
    "    COUNT(*) as eval_count,\n",
    "    COUNTIF(test.result like \"no-symptoms\") as test_no_symptoms_count,\n",
    "    COUNTIF(test.result like \"symptoms\") as test_symptoms_count,\n",
    "    MAX(test.time) as latest_test_time\n",
    "  FROM `openpandemic-analytics.openpandemic_test.data_test_es_v1`\n",
    "  GROUP BY person_id\n",
    "  HAVING COUNT(*) > 1\n",
    ") C1\n",
    "ON C.person_id = C1.person_id1 AND C.test.time = latest_test_time\n",
    "ORDER BY PERSON_ID,TEST.TIME DESC"
   ],
   "execution_count": null,
   "outputs": []
  },
  {
   "cell_type": "code",
   "metadata": {
    "id": "B6cmU94KjLf1",
    "colab_type": "code",
    "outputId": "9cdf6d0e-9876-4a5f-b7b5-2ce68aefb3fe",
    "colab": {
     "base_uri": "https://localhost:8080/",
     "height": 34
    }
   },
   "source": [
    "print('Number of user with more than one evaluation: %s' % df_re_eval['person_id'].count())"
   ],
   "execution_count": null,
   "outputs": []
  },
  {
   "cell_type": "code",
   "metadata": {
    "id": "Eg2SahENnADL",
    "colab_type": "code",
    "outputId": "24805f9f-08e4-477b-8976-95c34a0d04bf",
    "colab": {
     "base_uri": "https://localhost:8080/",
     "height": 508
    }
   },
   "source": [
    "df_re_eval.head(20)"
   ],
   "execution_count": null,
   "outputs": []
  },
  {
   "cell_type": "markdown",
   "metadata": {
    "id": "dPGy9M5AIMkz",
    "colab_type": "text"
   },
   "source": [
    "So we have the number of evaluations, negative and positive count of test results and the last result of them then we'd calculate the ratio of users in each situation:\n",
    "\n",
    "* Users with symptoms (test result were always 'symptoms', eval_count=test_symptoms_count).\n",
    "* User without symptoms (test result are always 'no-symptoms', eval_count=test_no_symptoms_count).\n",
    "* Users who now have symptoms (latest test result is 'symptoms' but sometimes before the user had one 'no-symptoms' test result, test_no_symptoms_count>0)\n",
    "* Users who now have no symptoms (latest test result is 'no-symptoms' but sometimes before the user had one 'symptoms' test result, test_symptoms_count>0)"
   ]
  },
  {
   "cell_type": "code",
   "metadata": {
    "id": "vpuPppXb3il0",
    "colab_type": "code",
    "colab": {}
   },
   "source": [
    "users_with_symptoms = df_re_eval[(df_re_eval['test_result'] == \"symptoms\") & (df_re_eval['test_no_symptoms_count'] == 0)].shape[0]\n",
    "users_no_symptoms = df_re_eval[(df_re_eval['test_result'] == \"no-symptoms\") & (df_re_eval['test_symptoms_count'] == 0)].shape[0]\n",
    "users_changed_symptoms = df_re_eval[(df_re_eval['test_result'] == \"symptoms\") & (df_re_eval['test_no_symptoms_count'] > 0)].shape[0]\n",
    "users_changed_no_symptoms = df_re_eval[(df_re_eval['test_result'] == \"no-symptoms\") & (df_re_eval['test_symptoms_count'] > 0)].shape[0]"
   ],
   "execution_count": null,
   "outputs": []
  },
  {
   "cell_type": "code",
   "metadata": {
    "id": "tUluFxpH8Aq7",
    "colab_type": "code",
    "outputId": "14f0a73b-4177-4aff-a210-128db04cf916",
    "colab": {
     "base_uri": "https://localhost:8080/",
     "height": 542
    }
   },
   "source": [
    "x=['Se mantienen con síntomas',\n",
    "   'Se mantienen sin síontomas',\n",
    "   'Cambian su estado a presentar sintomas',\n",
    "   'Cambian su estado a sin síntomas']\n",
    "\n",
    "y = np.array([users_with_symptoms, users_no_symptoms, users_changed_symptoms, users_changed_no_symptoms])\n",
    "\n",
    "re_eval_ratio = np.around((df_re_eval['person_id'].count()/df_total_eval['total_evaluation'])*100)\n",
    "\n",
    "title = f\"Usuarios re-evaluados, {int(re_eval_ratio)}%\"\n",
    "\n",
    "graph(x, y, title).show()\n"
   ],
   "execution_count": null,
   "outputs": []
  },
  {
   "cell_type": "markdown",
   "metadata": {
    "id": "uvsWUqNxoUNC",
    "colab_type": "text"
   },
   "source": [
    "## All in one\n",
    "\n",
    "We could have done all in few steps, the key is the data understanding and the query we can formed in our minds beforehand.\n",
    "\n",
    "Let's get the data summary as we need to calculate the results we expect to draw. In this case we're going to classify the type of user regard the the symptoms and evaluations."
   ]
  },
  {
   "cell_type": "code",
   "metadata": {
    "id": "p_xsRzRVBCuL",
    "colab_type": "code",
    "outputId": "686b8b28-cee9-44d3-851f-b9b5e44e47df",
    "colab": {
     "base_uri": "https://localhost:8080/",
     "height": 542
    }
   },
   "source": [
    "# Query to get the summaty of evaluations\n",
    "q_summary = f'''\n",
    "SELECT\n",
    " person_id,\n",
    " test.id as test_id,\n",
    " test.time as test_time,\n",
    " test.result as test_result,\n",
    " C1.eval_count,\n",
    " C1.test_no_symptoms_count,\n",
    " C1.test_symptoms_count,\n",
    " CASE \n",
    "    WHEN (test.RESULT = \"symptoms\" AND test_no_symptoms_count = 0) THEN \"SYMPTOM\" \n",
    "    WHEN (test.RESULT = \"no-symptoms\" AND test_symptoms_count = 0) THEN \"NO_SYMPTOM\"\n",
    "    WHEN (test.RESULT = \"symptoms\" AND test_no_symptoms_count > 0) THEN \"TO_SYMPTOM\"\n",
    "    WHEN (test.RESULT = \"no-symptoms\" AND test_symptoms_count > 0) THEN \"TO_NO_SYMPTOM\"\n",
    " END as user_type\n",
    "FROM `{table_id}` C\n",
    "JOIN (\n",
    "  SELECT\n",
    "    person_id as person_id1,\n",
    "    COUNT(*) as eval_count,\n",
    "    COUNTIF(test.result like \"no-symptoms\") as test_no_symptoms_count,\n",
    "    COUNTIF(test.result like \"symptoms\") as test_symptoms_count,\n",
    "    MAX(test.time) as latest_test_time\n",
    "  FROM `{table_id}`\n",
    "  GROUP BY person_id\n",
    ") C1\n",
    "ON C.person_id = C1.person_id1 AND C.test.time = latest_test_time\n",
    "ORDER BY PERSON_ID,TEST.TIME DESC\n",
    "'''\n",
    "\n",
    "query_job = client.query(q_summary)  # API request\n",
    "\n",
    "rows = query_job.result()            # Waits for query to finish\n",
    "\n",
    "df_summary = rows.to_dataframe()\n",
    "print(f\"Total number of rows: {rows.num_results}\\n\")\n",
    "df_summary.head(20)  "
   ],
   "execution_count": null,
   "outputs": []
  },
  {
   "cell_type": "code",
   "metadata": {
    "id": "sGWUx206qs0J",
    "colab_type": "code",
    "outputId": "3768fcac-fbae-4818-f7f7-4f4b96e00d23",
    "colab": {
     "base_uri": "https://localhost:8080/",
     "height": 119
    }
   },
   "source": [
    "df_summary_unique_eval = df_summary[(df_summary['eval_count'] == 1)]\n",
    "print('Number of user with just one evaluation: %s\\n' % df_summary_unique_eval['person_id'].count())\n",
    "df_summary_unique_eval.groupby(['user_type'])['person_id'].count()"
   ],
   "execution_count": null,
   "outputs": []
  },
  {
   "cell_type": "code",
   "metadata": {
    "id": "EPcNUZI7rdoZ",
    "colab_type": "code",
    "outputId": "cab266db-7f2f-4356-e9ae-220269149b5d",
    "colab": {
     "base_uri": "https://localhost:8080/",
     "height": 153
    }
   },
   "source": [
    "df_summary_re_eval = df_summary[(df_summary['eval_count'] > 1)]\n",
    "print('Number of user with more than one evaluation: %s\\n' % df_summary_re_eval['person_id'].count())\n",
    "df_summary_re_eval.groupby(['user_type'])['person_id'].count()"
   ],
   "execution_count": null,
   "outputs": []
  },
  {
   "cell_type": "markdown",
   "metadata": {
    "id": "64S4oxdmvJU2",
    "colab_type": "text"
   },
   "source": [
    "This query seems to be interesting enought for my coworkers, thus I'm thinking about shere it ... beyond storing it into file in a repository obviously\n",
    "\n",
    "That's pretty easy, just save it using the bigquery client, for example as a view:\n"
   ]
  },
  {
   "cell_type": "code",
   "metadata": {
    "id": "FtmgTl1sCV20",
    "colab_type": "code",
    "outputId": "0f017a32-9e3c-403c-c8a8-3ad9e9422df2",
    "colab": {
     "base_uri": "https://localhost:8080/",
     "height": 34
    }
   },
   "source": [
    "view_name = \"summary_eval_view\"\n",
    "view_id = f\"{PROJECT}.openpandemic_test.summary\"\n",
    "view = bq.Table(view_id)\n",
    "view.view_query = q_summary\n",
    "view = client.create_table(view)  # API request\n",
    "\n",
    "print(\"Successfully created view at {}\".format(view.full_table_id))"
   ],
   "execution_count": null,
   "outputs": []
  },
  {
   "cell_type": "markdown",
   "metadata": {
    "id": "wPuV5S6xIMKn",
    "colab_type": "text"
   },
   "source": [
    "And now we can use the view to get results: "
   ]
  },
  {
   "cell_type": "code",
   "metadata": {
    "id": "4MMzdCoxLLAP",
    "colab_type": "code",
    "outputId": "eb54dd13-5e50-47de-eacd-5b9dd483c02e",
    "colab": {
     "base_uri": "https://localhost:8080/",
     "height": 623
    }
   },
   "source": [
    "query_job = client.query(f'''\n",
    "SELECT\n",
    "  *\n",
    "FROM `{PROJECT}.openpandemic_test.summary`\n",
    "''')\n",
    "rows = query_job.result(max_results=10)\n",
    "rows.to_dataframe()"
   ],
   "execution_count": null,
   "outputs": []
  }
 ]
}